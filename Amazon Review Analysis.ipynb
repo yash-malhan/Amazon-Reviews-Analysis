{
 "cells": [
  {
   "cell_type": "markdown",
   "id": "79bc30c4-30b4-4b1d-bcaf-8940193c91b9",
   "metadata": {},
   "source": [
    "# Analyzing Amazon Reviews\n",
    "\n",
    "Data downloaded from: http://sifaka.cs.uiuc.edu/~wang296/Data/index.html\n",
    "\n",
    "**INSTRUCTIONS - Please read carefully.**\n",
    "\n",
    "1. If you are unclear on how to proceed at any point you can\n",
    "    - raise your hand and ask for help during the class\n",
    "    - post to Piazza for help after the class\n",
    "    - visit office hours to receive help"
   ]
  },
  {
   "cell_type": "markdown",
   "id": "326e3ece-e4b5-4ad2-b8ad-38016960a133",
   "metadata": {},
   "source": [
    "<HR/>\n",
    "\n",
    "## <font color='red'/>Student Name:</font>\n",
    "\n",
    "#### *Yash Malhan*"
   ]
  },
  {
   "cell_type": "markdown",
   "id": "9e1197f0-afc3-4787-9857-aa0a5fe075c6",
   "metadata": {},
   "source": [
    "<hr/>\n",
    "\n",
    "\n",
    "## <font color='blue'>Context</font>\n",
    "\n",
    "<HR/>\n",
    "\n",
    "We will work with a dataset of Amazon product reviews. We will use a subset of the data (a 5-core subset of appliance reviews). \n",
    "\n",
    "The key questions that we will try to answer are: \n",
    "- Which is the highest rated product? \n",
    "- Which product would you buy/ recommend?\n",
    "- What is the overall (shape of the) distribution of product reviews?\n",
    "- Is the length of the product review related to the assigned rating?\n",
    "\n",
    "\n",
    "<BR/>\n",
    "<BR/>\n",
    "<HR/>\n"
   ]
  },
  {
   "cell_type": "markdown",
   "id": "ecb78334-77de-4ef5-8980-c4d4e0d8375e",
   "metadata": {},
   "source": [
    "### Start by reading the data into dataframes and examining it. The data is in the files \"laptop_reviews_small.json\" and \"laptop_products_small.json\" located in the scratch folder. "
   ]
  },
  {
   "cell_type": "code",
   "execution_count": 2,
   "id": "43780ab5-b550-49ef-bc8e-3cd0745d866f",
   "metadata": {},
   "outputs": [],
   "source": [
    "import pandas as pd\n",
    "reviews = pd.read_json('../scratch/laptop_reviews_small.json', orient = 'records')\n",
    "products = pd.read_json('../scratch/laptop_products_small.json', orient = 'records')"
   ]
  },
  {
   "cell_type": "code",
   "execution_count": 3,
   "id": "88ec7193-af45-4831-8ba1-7fbf9d59b63b",
   "metadata": {},
   "outputs": [
    {
     "data": {
      "text/html": [
       "<div>\n",
       "<style scoped>\n",
       "    .dataframe tbody tr th:only-of-type {\n",
       "        vertical-align: middle;\n",
       "    }\n",
       "\n",
       "    .dataframe tbody tr th {\n",
       "        vertical-align: top;\n",
       "    }\n",
       "\n",
       "    .dataframe thead th {\n",
       "        text-align: right;\n",
       "    }\n",
       "</style>\n",
       "<table border=\"1\" class=\"dataframe\">\n",
       "  <thead>\n",
       "    <tr style=\"text-align: right;\">\n",
       "      <th></th>\n",
       "      <th>Price</th>\n",
       "      <th>Features</th>\n",
       "      <th>Name</th>\n",
       "      <th>ImgURL</th>\n",
       "      <th>ProductID</th>\n",
       "    </tr>\n",
       "  </thead>\n",
       "  <tbody>\n",
       "    <tr>\n",
       "      <th>0</th>\n",
       "      <td>Unavailable</td>\n",
       "      <td>Intel Core 2 Duo Processor 2.53GHz\\n4GB DDR3 R...</td>\n",
       "      <td>Apple MacBook ProMB991LL/A 13.3 Inch Laptop</td>\n",
       "      <td>\\ndata:image/jpeg;base64,/9j/4AAQSkZJRgABAQAAA...</td>\n",
       "      <td>B002C7446A</td>\n",
       "    </tr>\n",
       "    <tr>\n",
       "      <th>1</th>\n",
       "      <td>Unavailable</td>\n",
       "      <td>Intel Core 2 Duo Processor 2.53GHz\\n4GB DDR3 R...</td>\n",
       "      <td>Apple MacBook Pro MC118LL/A 15.4-Inch Laptop</td>\n",
       "      <td>\\ndata:image/jpeg;base64,/9j/4AAQSkZJRgABAQAAA...</td>\n",
       "      <td>B002C744K6</td>\n",
       "    </tr>\n",
       "    <tr>\n",
       "      <th>2</th>\n",
       "      <td>Unavailable</td>\n",
       "      <td>Intel Core 2 Duo Processor 2.8GHz\\n4GB DDR3 RA...</td>\n",
       "      <td>Apple MacBook Pro MB986LL/A 15.4-Inch Laptop 2...</td>\n",
       "      <td>\\ndata:image/jpeg;base64,/9j/4AAQSkZJRgABAQAAA...</td>\n",
       "      <td>B002C745OQ</td>\n",
       "    </tr>\n",
       "    <tr>\n",
       "      <th>3</th>\n",
       "      <td>None</td>\n",
       "      <td>None</td>\n",
       "      <td>None</td>\n",
       "      <td>None</td>\n",
       "      <td>B002C746FE</td>\n",
       "    </tr>\n",
       "    <tr>\n",
       "      <th>4</th>\n",
       "      <td>Unavailable</td>\n",
       "      <td>Intel Core 2 Duo Processor 1.7GHz\\n2GB DDR3 RA...</td>\n",
       "      <td>Apple MacBook Air MC234LL/A 13.3-Inch Laptop (...</td>\n",
       "      <td>\\ndata:image/jpeg;base64,/9j/4AAQSkZJRgABAQAAA...</td>\n",
       "      <td>B002C747XA</td>\n",
       "    </tr>\n",
       "  </tbody>\n",
       "</table>\n",
       "</div>"
      ],
      "text/plain": [
       "         Price                                           Features  \\\n",
       "0  Unavailable  Intel Core 2 Duo Processor 2.53GHz\\n4GB DDR3 R...   \n",
       "1  Unavailable  Intel Core 2 Duo Processor 2.53GHz\\n4GB DDR3 R...   \n",
       "2  Unavailable  Intel Core 2 Duo Processor 2.8GHz\\n4GB DDR3 RA...   \n",
       "3         None                                               None   \n",
       "4  Unavailable  Intel Core 2 Duo Processor 1.7GHz\\n2GB DDR3 RA...   \n",
       "\n",
       "                                                Name  \\\n",
       "0        Apple MacBook ProMB991LL/A 13.3 Inch Laptop   \n",
       "1       Apple MacBook Pro MC118LL/A 15.4-Inch Laptop   \n",
       "2  Apple MacBook Pro MB986LL/A 15.4-Inch Laptop 2...   \n",
       "3                                               None   \n",
       "4  Apple MacBook Air MC234LL/A 13.3-Inch Laptop (...   \n",
       "\n",
       "                                              ImgURL   ProductID  \n",
       "0  \\ndata:image/jpeg;base64,/9j/4AAQSkZJRgABAQAAA...  B002C7446A  \n",
       "1  \\ndata:image/jpeg;base64,/9j/4AAQSkZJRgABAQAAA...  B002C744K6  \n",
       "2  \\ndata:image/jpeg;base64,/9j/4AAQSkZJRgABAQAAA...  B002C745OQ  \n",
       "3                                               None  B002C746FE  \n",
       "4  \\ndata:image/jpeg;base64,/9j/4AAQSkZJRgABAQAAA...  B002C747XA  "
      ]
     },
     "execution_count": 3,
     "metadata": {},
     "output_type": "execute_result"
    }
   ],
   "source": [
    "products.head()"
   ]
  },
  {
   "cell_type": "code",
   "execution_count": 4,
   "id": "2e9f51f5-ddd6-4207-a1ea-1225e12fc910",
   "metadata": {},
   "outputs": [
    {
     "name": "stdout",
     "output_type": "stream",
     "text": [
      "<class 'pandas.core.frame.DataFrame'>\n",
      "RangeIndex: 601 entries, 0 to 600\n",
      "Data columns (total 5 columns):\n",
      " #   Column     Non-Null Count  Dtype \n",
      "---  ------     --------------  ----- \n",
      " 0   Price      308 non-null    object\n",
      " 1   Features   299 non-null    object\n",
      " 2   Name       308 non-null    object\n",
      " 3   ImgURL     308 non-null    object\n",
      " 4   ProductID  601 non-null    object\n",
      "dtypes: object(5)\n",
      "memory usage: 23.6+ KB\n"
     ]
    }
   ],
   "source": [
    "products.info()"
   ]
  },
  {
   "cell_type": "code",
   "execution_count": 5,
   "id": "74fdd0b1-ff4c-4124-86c9-619be50375ba",
   "metadata": {},
   "outputs": [
    {
     "data": {
      "text/html": [
       "<div>\n",
       "<style scoped>\n",
       "    .dataframe tbody tr th:only-of-type {\n",
       "        vertical-align: middle;\n",
       "    }\n",
       "\n",
       "    .dataframe tbody tr th {\n",
       "        vertical-align: top;\n",
       "    }\n",
       "\n",
       "    .dataframe thead th {\n",
       "        text-align: right;\n",
       "    }\n",
       "</style>\n",
       "<table border=\"1\" class=\"dataframe\">\n",
       "  <thead>\n",
       "    <tr style=\"text-align: right;\">\n",
       "      <th></th>\n",
       "      <th>Price</th>\n",
       "      <th>Features</th>\n",
       "      <th>Name</th>\n",
       "      <th>ImgURL</th>\n",
       "      <th>ProductID</th>\n",
       "    </tr>\n",
       "  </thead>\n",
       "  <tbody>\n",
       "    <tr>\n",
       "      <th>0</th>\n",
       "      <td>NaN</td>\n",
       "      <td>Intel Core 2 Duo Processor 2.53GHz\\n4GB DDR3 R...</td>\n",
       "      <td>Apple MacBook ProMB991LL/A 13.3 Inch Laptop</td>\n",
       "      <td>\\ndata:image/jpeg;base64,/9j/4AAQSkZJRgABAQAAA...</td>\n",
       "      <td>B002C7446A</td>\n",
       "    </tr>\n",
       "    <tr>\n",
       "      <th>1</th>\n",
       "      <td>NaN</td>\n",
       "      <td>Intel Core 2 Duo Processor 2.53GHz\\n4GB DDR3 R...</td>\n",
       "      <td>Apple MacBook Pro MC118LL/A 15.4-Inch Laptop</td>\n",
       "      <td>\\ndata:image/jpeg;base64,/9j/4AAQSkZJRgABAQAAA...</td>\n",
       "      <td>B002C744K6</td>\n",
       "    </tr>\n",
       "    <tr>\n",
       "      <th>2</th>\n",
       "      <td>NaN</td>\n",
       "      <td>Intel Core 2 Duo Processor 2.8GHz\\n4GB DDR3 RA...</td>\n",
       "      <td>Apple MacBook Pro MB986LL/A 15.4-Inch Laptop 2...</td>\n",
       "      <td>\\ndata:image/jpeg;base64,/9j/4AAQSkZJRgABAQAAA...</td>\n",
       "      <td>B002C745OQ</td>\n",
       "    </tr>\n",
       "    <tr>\n",
       "      <th>3</th>\n",
       "      <td>None</td>\n",
       "      <td>None</td>\n",
       "      <td>None</td>\n",
       "      <td>None</td>\n",
       "      <td>B002C746FE</td>\n",
       "    </tr>\n",
       "    <tr>\n",
       "      <th>4</th>\n",
       "      <td>NaN</td>\n",
       "      <td>Intel Core 2 Duo Processor 1.7GHz\\n2GB DDR3 RA...</td>\n",
       "      <td>Apple MacBook Air MC234LL/A 13.3-Inch Laptop (...</td>\n",
       "      <td>\\ndata:image/jpeg;base64,/9j/4AAQSkZJRgABAQAAA...</td>\n",
       "      <td>B002C747XA</td>\n",
       "    </tr>\n",
       "  </tbody>\n",
       "</table>\n",
       "</div>"
      ],
      "text/plain": [
       "  Price                                           Features  \\\n",
       "0   NaN  Intel Core 2 Duo Processor 2.53GHz\\n4GB DDR3 R...   \n",
       "1   NaN  Intel Core 2 Duo Processor 2.53GHz\\n4GB DDR3 R...   \n",
       "2   NaN  Intel Core 2 Duo Processor 2.8GHz\\n4GB DDR3 RA...   \n",
       "3  None                                               None   \n",
       "4   NaN  Intel Core 2 Duo Processor 1.7GHz\\n2GB DDR3 RA...   \n",
       "\n",
       "                                                Name  \\\n",
       "0        Apple MacBook ProMB991LL/A 13.3 Inch Laptop   \n",
       "1       Apple MacBook Pro MC118LL/A 15.4-Inch Laptop   \n",
       "2  Apple MacBook Pro MB986LL/A 15.4-Inch Laptop 2...   \n",
       "3                                               None   \n",
       "4  Apple MacBook Air MC234LL/A 13.3-Inch Laptop (...   \n",
       "\n",
       "                                              ImgURL   ProductID  \n",
       "0  \\ndata:image/jpeg;base64,/9j/4AAQSkZJRgABAQAAA...  B002C7446A  \n",
       "1  \\ndata:image/jpeg;base64,/9j/4AAQSkZJRgABAQAAA...  B002C744K6  \n",
       "2  \\ndata:image/jpeg;base64,/9j/4AAQSkZJRgABAQAAA...  B002C745OQ  \n",
       "3                                               None  B002C746FE  \n",
       "4  \\ndata:image/jpeg;base64,/9j/4AAQSkZJRgABAQAAA...  B002C747XA  "
      ]
     },
     "execution_count": 5,
     "metadata": {},
     "output_type": "execute_result"
    }
   ],
   "source": [
    "#replace column value\n",
    "import numpy as np\n",
    "products['Price'].replace('Unavailable',np.NaN, inplace = True)\n",
    "products.head()"
   ]
  },
  {
   "cell_type": "code",
   "execution_count": 7,
   "id": "84783b8b-1b1f-4ad0-a21b-1343782f4c6f",
   "metadata": {},
   "outputs": [
    {
     "data": {
      "text/html": [
       "<div>\n",
       "<style scoped>\n",
       "    .dataframe tbody tr th:only-of-type {\n",
       "        vertical-align: middle;\n",
       "    }\n",
       "\n",
       "    .dataframe tbody tr th {\n",
       "        vertical-align: top;\n",
       "    }\n",
       "\n",
       "    .dataframe thead th {\n",
       "        text-align: right;\n",
       "    }\n",
       "</style>\n",
       "<table border=\"1\" class=\"dataframe\">\n",
       "  <thead>\n",
       "    <tr style=\"text-align: right;\">\n",
       "      <th></th>\n",
       "      <th>Price</th>\n",
       "      <th>Features</th>\n",
       "      <th>Name</th>\n",
       "      <th>ImgURL</th>\n",
       "      <th>ProductID</th>\n",
       "    </tr>\n",
       "  </thead>\n",
       "  <tbody>\n",
       "    <tr>\n",
       "      <th>0</th>\n",
       "      <td>NaN</td>\n",
       "      <td>Intel Core 2 Duo Processor 2.53GHz\\n4GB DDR3 R...</td>\n",
       "      <td>Apple MacBook ProMB991LL/A 13.3 Inch Laptop</td>\n",
       "      <td>\\ndata:image/jpeg;base64,/9j/4AAQSkZJRgABAQAAA...</td>\n",
       "      <td>B002C7446A</td>\n",
       "    </tr>\n",
       "    <tr>\n",
       "      <th>1</th>\n",
       "      <td>NaN</td>\n",
       "      <td>Intel Core 2 Duo Processor 2.53GHz\\n4GB DDR3 R...</td>\n",
       "      <td>Apple MacBook Pro MC118LL/A 15.4-Inch Laptop</td>\n",
       "      <td>\\ndata:image/jpeg;base64,/9j/4AAQSkZJRgABAQAAA...</td>\n",
       "      <td>B002C744K6</td>\n",
       "    </tr>\n",
       "    <tr>\n",
       "      <th>2</th>\n",
       "      <td>NaN</td>\n",
       "      <td>Intel Core 2 Duo Processor 2.8GHz\\n4GB DDR3 RA...</td>\n",
       "      <td>Apple MacBook Pro MB986LL/A 15.4-Inch Laptop 2...</td>\n",
       "      <td>\\ndata:image/jpeg;base64,/9j/4AAQSkZJRgABAQAAA...</td>\n",
       "      <td>B002C745OQ</td>\n",
       "    </tr>\n",
       "    <tr>\n",
       "      <th>3</th>\n",
       "      <td>None</td>\n",
       "      <td>None</td>\n",
       "      <td>None</td>\n",
       "      <td>None</td>\n",
       "      <td>B002C746FE</td>\n",
       "    </tr>\n",
       "    <tr>\n",
       "      <th>4</th>\n",
       "      <td>NaN</td>\n",
       "      <td>Intel Core 2 Duo Processor 1.7GHz\\n2GB DDR3 RA...</td>\n",
       "      <td>Apple MacBook Air MC234LL/A 13.3-Inch Laptop (...</td>\n",
       "      <td>\\ndata:image/jpeg;base64,/9j/4AAQSkZJRgABAQAAA...</td>\n",
       "      <td>B002C747XA</td>\n",
       "    </tr>\n",
       "  </tbody>\n",
       "</table>\n",
       "</div>"
      ],
      "text/plain": [
       "  Price                                           Features  \\\n",
       "0   NaN  Intel Core 2 Duo Processor 2.53GHz\\n4GB DDR3 R...   \n",
       "1   NaN  Intel Core 2 Duo Processor 2.53GHz\\n4GB DDR3 R...   \n",
       "2   NaN  Intel Core 2 Duo Processor 2.8GHz\\n4GB DDR3 RA...   \n",
       "3  None                                               None   \n",
       "4   NaN  Intel Core 2 Duo Processor 1.7GHz\\n2GB DDR3 RA...   \n",
       "\n",
       "                                                Name  \\\n",
       "0        Apple MacBook ProMB991LL/A 13.3 Inch Laptop   \n",
       "1       Apple MacBook Pro MC118LL/A 15.4-Inch Laptop   \n",
       "2  Apple MacBook Pro MB986LL/A 15.4-Inch Laptop 2...   \n",
       "3                                               None   \n",
       "4  Apple MacBook Air MC234LL/A 13.3-Inch Laptop (...   \n",
       "\n",
       "                                              ImgURL   ProductID  \n",
       "0  \\ndata:image/jpeg;base64,/9j/4AAQSkZJRgABAQAAA...  B002C7446A  \n",
       "1  \\ndata:image/jpeg;base64,/9j/4AAQSkZJRgABAQAAA...  B002C744K6  \n",
       "2  \\ndata:image/jpeg;base64,/9j/4AAQSkZJRgABAQAAA...  B002C745OQ  \n",
       "3                                               None  B002C746FE  \n",
       "4  \\ndata:image/jpeg;base64,/9j/4AAQSkZJRgABAQAAA...  B002C747XA  "
      ]
     },
     "execution_count": 7,
     "metadata": {},
     "output_type": "execute_result"
    }
   ],
   "source": [
    "products['Price'].replace('None',np.NaN, inplace = True) #replace None\n",
    "products.head()"
   ]
  },
  {
   "cell_type": "code",
   "execution_count": 8,
   "id": "e9e56922-65dc-4862-9480-b442072856f9",
   "metadata": {},
   "outputs": [
    {
     "data": {
      "text/html": [
       "<div>\n",
       "<style scoped>\n",
       "    .dataframe tbody tr th:only-of-type {\n",
       "        vertical-align: middle;\n",
       "    }\n",
       "\n",
       "    .dataframe tbody tr th {\n",
       "        vertical-align: top;\n",
       "    }\n",
       "\n",
       "    .dataframe thead th {\n",
       "        text-align: right;\n",
       "    }\n",
       "</style>\n",
       "<table border=\"1\" class=\"dataframe\">\n",
       "  <thead>\n",
       "    <tr style=\"text-align: right;\">\n",
       "      <th></th>\n",
       "      <th>Price</th>\n",
       "      <th>Features</th>\n",
       "      <th>Name</th>\n",
       "      <th>ImgURL</th>\n",
       "      <th>ProductID</th>\n",
       "    </tr>\n",
       "  </thead>\n",
       "  <tbody>\n",
       "    <tr>\n",
       "      <th>0</th>\n",
       "      <td>NaN</td>\n",
       "      <td>Intel Core 2 Duo Processor 2.53GHz\\n4GB DDR3 R...</td>\n",
       "      <td>Apple MacBook ProMB991LL/A 13.3 Inch Laptop</td>\n",
       "      <td>\\ndata:image/jpeg;base64,/9j/4AAQSkZJRgABAQAAA...</td>\n",
       "      <td>B002C7446A</td>\n",
       "    </tr>\n",
       "    <tr>\n",
       "      <th>1</th>\n",
       "      <td>NaN</td>\n",
       "      <td>Intel Core 2 Duo Processor 2.53GHz\\n4GB DDR3 R...</td>\n",
       "      <td>Apple MacBook Pro MC118LL/A 15.4-Inch Laptop</td>\n",
       "      <td>\\ndata:image/jpeg;base64,/9j/4AAQSkZJRgABAQAAA...</td>\n",
       "      <td>B002C744K6</td>\n",
       "    </tr>\n",
       "    <tr>\n",
       "      <th>2</th>\n",
       "      <td>NaN</td>\n",
       "      <td>Intel Core 2 Duo Processor 2.8GHz\\n4GB DDR3 RA...</td>\n",
       "      <td>Apple MacBook Pro MB986LL/A 15.4-Inch Laptop 2...</td>\n",
       "      <td>\\ndata:image/jpeg;base64,/9j/4AAQSkZJRgABAQAAA...</td>\n",
       "      <td>B002C745OQ</td>\n",
       "    </tr>\n",
       "    <tr>\n",
       "      <th>3</th>\n",
       "      <td>NaN</td>\n",
       "      <td>NaN</td>\n",
       "      <td>NaN</td>\n",
       "      <td>NaN</td>\n",
       "      <td>B002C746FE</td>\n",
       "    </tr>\n",
       "    <tr>\n",
       "      <th>4</th>\n",
       "      <td>NaN</td>\n",
       "      <td>Intel Core 2 Duo Processor 1.7GHz\\n2GB DDR3 RA...</td>\n",
       "      <td>Apple MacBook Air MC234LL/A 13.3-Inch Laptop (...</td>\n",
       "      <td>\\ndata:image/jpeg;base64,/9j/4AAQSkZJRgABAQAAA...</td>\n",
       "      <td>B002C747XA</td>\n",
       "    </tr>\n",
       "  </tbody>\n",
       "</table>\n",
       "</div>"
      ],
      "text/plain": [
       "  Price                                           Features  \\\n",
       "0   NaN  Intel Core 2 Duo Processor 2.53GHz\\n4GB DDR3 R...   \n",
       "1   NaN  Intel Core 2 Duo Processor 2.53GHz\\n4GB DDR3 R...   \n",
       "2   NaN  Intel Core 2 Duo Processor 2.8GHz\\n4GB DDR3 RA...   \n",
       "3   NaN                                                NaN   \n",
       "4   NaN  Intel Core 2 Duo Processor 1.7GHz\\n2GB DDR3 RA...   \n",
       "\n",
       "                                                Name  \\\n",
       "0        Apple MacBook ProMB991LL/A 13.3 Inch Laptop   \n",
       "1       Apple MacBook Pro MC118LL/A 15.4-Inch Laptop   \n",
       "2  Apple MacBook Pro MB986LL/A 15.4-Inch Laptop 2...   \n",
       "3                                                NaN   \n",
       "4  Apple MacBook Air MC234LL/A 13.3-Inch Laptop (...   \n",
       "\n",
       "                                              ImgURL   ProductID  \n",
       "0  \\ndata:image/jpeg;base64,/9j/4AAQSkZJRgABAQAAA...  B002C7446A  \n",
       "1  \\ndata:image/jpeg;base64,/9j/4AAQSkZJRgABAQAAA...  B002C744K6  \n",
       "2  \\ndata:image/jpeg;base64,/9j/4AAQSkZJRgABAQAAA...  B002C745OQ  \n",
       "3                                                NaN  B002C746FE  \n",
       "4  \\ndata:image/jpeg;base64,/9j/4AAQSkZJRgABAQAAA...  B002C747XA  "
      ]
     },
     "execution_count": 8,
     "metadata": {},
     "output_type": "execute_result"
    }
   ],
   "source": [
    "products.fillna(np.NaN, inplace= True)  #None would not be replaced\n",
    "products.head()"
   ]
  },
  {
   "cell_type": "code",
   "execution_count": 170,
   "id": "88a88ce9-14e6-4cd3-85cc-3e35b269ea0f",
   "metadata": {},
   "outputs": [
    {
     "data": {
      "text/html": [
       "<div>\n",
       "<style scoped>\n",
       "    .dataframe tbody tr th:only-of-type {\n",
       "        vertical-align: middle;\n",
       "    }\n",
       "\n",
       "    .dataframe tbody tr th {\n",
       "        vertical-align: top;\n",
       "    }\n",
       "\n",
       "    .dataframe thead th {\n",
       "        text-align: right;\n",
       "    }\n",
       "</style>\n",
       "<table border=\"1\" class=\"dataframe\">\n",
       "  <thead>\n",
       "    <tr style=\"text-align: right;\">\n",
       "      <th></th>\n",
       "      <th>Title</th>\n",
       "      <th>Author</th>\n",
       "      <th>ReviewID</th>\n",
       "      <th>Overall</th>\n",
       "      <th>Content</th>\n",
       "      <th>Date</th>\n",
       "      <th>ProductID</th>\n",
       "    </tr>\n",
       "  </thead>\n",
       "  <tbody>\n",
       "    <tr>\n",
       "      <th>0</th>\n",
       "      <td>Switched from Windows: More good than bad.  Gr...</td>\n",
       "      <td>Jeffrey Stanley</td>\n",
       "      <td>R1DA3BK8I1XXDW</td>\n",
       "      <td>4</td>\n",
       "      <td>This is my first Mac computer.  My first four ...</td>\n",
       "      <td>2009-07-06</td>\n",
       "      <td>B002C7446A</td>\n",
       "    </tr>\n",
       "    <tr>\n",
       "      <th>1</th>\n",
       "      <td>Macbook graduates to PRO status!</td>\n",
       "      <td>Nate \"bigetan\"</td>\n",
       "      <td>R3IO3TVYYXPJVE</td>\n",
       "      <td>5</td>\n",
       "      <td>Well I must say I am very happy i did not buy ...</td>\n",
       "      <td>2009-06-15</td>\n",
       "      <td>B002C7446A</td>\n",
       "    </tr>\n",
       "    <tr>\n",
       "      <th>2</th>\n",
       "      <td>Not sure why all of the haters keep griping ab...</td>\n",
       "      <td>DR</td>\n",
       "      <td>R29AN2GC4M6VZO</td>\n",
       "      <td>5</td>\n",
       "      <td>I just got my brand new 13.3\" Macbook Pro in t...</td>\n",
       "      <td>2009-06-30</td>\n",
       "      <td>B002C7446A</td>\n",
       "    </tr>\n",
       "    <tr>\n",
       "      <th>3</th>\n",
       "      <td>Apple's lightest full-featured notebook</td>\n",
       "      <td>Cuyler</td>\n",
       "      <td>R3NW0EN92LKU0J</td>\n",
       "      <td>4</td>\n",
       "      <td>There are lots of positives.  First, the alumi...</td>\n",
       "      <td>2009-06-23</td>\n",
       "      <td>B002C7446A</td>\n",
       "    </tr>\n",
       "    <tr>\n",
       "      <th>4</th>\n",
       "      <td>A True Pro Laptop</td>\n",
       "      <td>A. Chan</td>\n",
       "      <td>R16ZRDX88506KF</td>\n",
       "      <td>5</td>\n",
       "      <td>I purchased the Unibody MacBook in October, an...</td>\n",
       "      <td>2009-06-16</td>\n",
       "      <td>B002C7446A</td>\n",
       "    </tr>\n",
       "  </tbody>\n",
       "</table>\n",
       "</div>"
      ],
      "text/plain": [
       "                                               Title           Author  \\\n",
       "0  Switched from Windows: More good than bad.  Gr...  Jeffrey Stanley   \n",
       "1                   Macbook graduates to PRO status!   Nate \"bigetan\"   \n",
       "2  Not sure why all of the haters keep griping ab...               DR   \n",
       "3            Apple's lightest full-featured notebook           Cuyler   \n",
       "4                                  A True Pro Laptop          A. Chan   \n",
       "\n",
       "         ReviewID  Overall                                            Content  \\\n",
       "0  R1DA3BK8I1XXDW        4  This is my first Mac computer.  My first four ...   \n",
       "1  R3IO3TVYYXPJVE        5  Well I must say I am very happy i did not buy ...   \n",
       "2  R29AN2GC4M6VZO        5  I just got my brand new 13.3\" Macbook Pro in t...   \n",
       "3  R3NW0EN92LKU0J        4  There are lots of positives.  First, the alumi...   \n",
       "4  R16ZRDX88506KF        5  I purchased the Unibody MacBook in October, an...   \n",
       "\n",
       "        Date   ProductID  \n",
       "0 2009-07-06  B002C7446A  \n",
       "1 2009-06-15  B002C7446A  \n",
       "2 2009-06-30  B002C7446A  \n",
       "3 2009-06-23  B002C7446A  \n",
       "4 2009-06-16  B002C7446A  "
      ]
     },
     "execution_count": 170,
     "metadata": {},
     "output_type": "execute_result"
    }
   ],
   "source": [
    "reviews.head()"
   ]
  },
  {
   "cell_type": "code",
   "execution_count": 171,
   "id": "3f6a595c-f2dc-4c6a-989a-6c00526b91e0",
   "metadata": {},
   "outputs": [
    {
     "name": "stdout",
     "output_type": "stream",
     "text": [
      "<class 'pandas.core.frame.DataFrame'>\n",
      "RangeIndex: 10671 entries, 0 to 10670\n",
      "Data columns (total 7 columns):\n",
      " #   Column     Non-Null Count  Dtype         \n",
      "---  ------     --------------  -----         \n",
      " 0   Title      10670 non-null  object        \n",
      " 1   Author     10663 non-null  object        \n",
      " 2   ReviewID   10671 non-null  object        \n",
      " 3   Overall    10671 non-null  int64         \n",
      " 4   Content    10665 non-null  object        \n",
      " 5   Date       10670 non-null  datetime64[ns]\n",
      " 6   ProductID  10671 non-null  object        \n",
      "dtypes: datetime64[ns](1), int64(1), object(5)\n",
      "memory usage: 583.7+ KB\n"
     ]
    }
   ],
   "source": [
    "reviews.info()"
   ]
  },
  {
   "cell_type": "markdown",
   "id": "dd4d581c-a817-409d-a8d2-5ad4d536b0e5",
   "metadata": {},
   "source": [
    "<BR/>\n",
    "<BR/>\n",
    "<HR/>"
   ]
  },
  {
   "cell_type": "markdown",
   "id": "6a02c9b6-dc50-4a2f-8b29-1a258eb5b3c8",
   "metadata": {},
   "source": [
    "### Which is the highest rated product?"
   ]
  },
  {
   "cell_type": "code",
   "execution_count": 172,
   "id": "4aab081c-de15-4c8a-891e-99e5dc751b7f",
   "metadata": {},
   "outputs": [
    {
     "data": {
      "text/plain": [
       "ProductID\n",
       "B0036BEXK8    5.0\n",
       "B00480Y3ZQ    5.0\n",
       "B006CMV9UA    5.0\n",
       "B002P3C8QY    5.0\n",
       "B006RA0ODK    5.0\n",
       "             ... \n",
       "B003XO7PNU    1.0\n",
       "B002KEJ2SU    1.0\n",
       "B004MN6UFA    1.0\n",
       "B006GT4XRK    1.0\n",
       "B005MKQ2N2    1.0\n",
       "Name: Overall, Length: 556, dtype: float64"
      ]
     },
     "execution_count": 172,
     "metadata": {},
     "output_type": "execute_result"
    }
   ],
   "source": [
    "grp_data = reviews.groupby('ProductID')['Overall'].mean().sort_values(ascending = False)\n",
    "grp_data"
   ]
  },
  {
   "cell_type": "code",
   "execution_count": 173,
   "id": "e8eb8be2-428f-40cc-8300-b75a129e148f",
   "metadata": {},
   "outputs": [
    {
     "data": {
      "text/html": [
       "<div>\n",
       "<style scoped>\n",
       "    .dataframe tbody tr th:only-of-type {\n",
       "        vertical-align: middle;\n",
       "    }\n",
       "\n",
       "    .dataframe tbody tr th {\n",
       "        vertical-align: top;\n",
       "    }\n",
       "\n",
       "    .dataframe thead th {\n",
       "        text-align: right;\n",
       "    }\n",
       "</style>\n",
       "<table border=\"1\" class=\"dataframe\">\n",
       "  <thead>\n",
       "    <tr style=\"text-align: right;\">\n",
       "      <th></th>\n",
       "      <th>ProductID</th>\n",
       "      <th>Overall</th>\n",
       "    </tr>\n",
       "    <tr>\n",
       "      <th>ProductID</th>\n",
       "      <th></th>\n",
       "      <th></th>\n",
       "    </tr>\n",
       "  </thead>\n",
       "  <tbody>\n",
       "    <tr>\n",
       "      <th>B0036BEXK8</th>\n",
       "      <td>1</td>\n",
       "      <td>5.0</td>\n",
       "    </tr>\n",
       "    <tr>\n",
       "      <th>B00480Y3ZQ</th>\n",
       "      <td>2</td>\n",
       "      <td>5.0</td>\n",
       "    </tr>\n",
       "    <tr>\n",
       "      <th>B006CMV9UA</th>\n",
       "      <td>1</td>\n",
       "      <td>5.0</td>\n",
       "    </tr>\n",
       "    <tr>\n",
       "      <th>B002P3C8QY</th>\n",
       "      <td>1</td>\n",
       "      <td>5.0</td>\n",
       "    </tr>\n",
       "    <tr>\n",
       "      <th>B006RA0ODK</th>\n",
       "      <td>3</td>\n",
       "      <td>5.0</td>\n",
       "    </tr>\n",
       "    <tr>\n",
       "      <th>...</th>\n",
       "      <td>...</td>\n",
       "      <td>...</td>\n",
       "    </tr>\n",
       "    <tr>\n",
       "      <th>B003XO7PNU</th>\n",
       "      <td>1</td>\n",
       "      <td>1.0</td>\n",
       "    </tr>\n",
       "    <tr>\n",
       "      <th>B002KEJ2SU</th>\n",
       "      <td>1</td>\n",
       "      <td>1.0</td>\n",
       "    </tr>\n",
       "    <tr>\n",
       "      <th>B004MN6UFA</th>\n",
       "      <td>1</td>\n",
       "      <td>1.0</td>\n",
       "    </tr>\n",
       "    <tr>\n",
       "      <th>B006GT4XRK</th>\n",
       "      <td>1</td>\n",
       "      <td>1.0</td>\n",
       "    </tr>\n",
       "    <tr>\n",
       "      <th>B005MKQ2N2</th>\n",
       "      <td>1</td>\n",
       "      <td>1.0</td>\n",
       "    </tr>\n",
       "  </tbody>\n",
       "</table>\n",
       "<p>556 rows × 2 columns</p>\n",
       "</div>"
      ],
      "text/plain": [
       "            ProductID  Overall\n",
       "ProductID                     \n",
       "B0036BEXK8          1      5.0\n",
       "B00480Y3ZQ          2      5.0\n",
       "B006CMV9UA          1      5.0\n",
       "B002P3C8QY          1      5.0\n",
       "B006RA0ODK          3      5.0\n",
       "...               ...      ...\n",
       "B003XO7PNU          1      1.0\n",
       "B002KEJ2SU          1      1.0\n",
       "B004MN6UFA          1      1.0\n",
       "B006GT4XRK          1      1.0\n",
       "B005MKQ2N2          1      1.0\n",
       "\n",
       "[556 rows x 2 columns]"
      ]
     },
     "execution_count": 173,
     "metadata": {},
     "output_type": "execute_result"
    }
   ],
   "source": [
    "ggrp_data = reviews.groupby('ProductID')['Overall'].aggregate(ProductID ='count',Overall = 'mean').sort_values(by = 'Overall', ascending = False)\n",
    "ggrp_data"
   ]
  },
  {
   "cell_type": "code",
   "execution_count": 174,
   "id": "6fbf4185-0225-4a84-9823-1f9d122f7da6",
   "metadata": {},
   "outputs": [
    {
     "data": {
      "text/plain": [
       "ProductID\n",
       "B007470SMM    698\n",
       "B0074712UY    606\n",
       "B0074703CM    420\n",
       "B00746YMHA    240\n",
       "B005CWIVYI    232\n",
       "             ... \n",
       "B004IBR0CI      1\n",
       "B004HYHVPC      1\n",
       "B0034SIU8O      1\n",
       "B0030YXIZ2      1\n",
       "B004NEEDPC      1\n",
       "Name: Overall, Length: 556, dtype: int64"
      ]
     },
     "execution_count": 174,
     "metadata": {},
     "output_type": "execute_result"
    }
   ],
   "source": [
    "cgrp_data = reviews.groupby('ProductID')['Overall'].count().sort_values(ascending = False)\n",
    "cgrp_data"
   ]
  },
  {
   "cell_type": "code",
   "execution_count": 175,
   "id": "ab1b3247-6d7c-417d-8825-0a91acdafd6d",
   "metadata": {},
   "outputs": [
    {
     "data": {
      "text/plain": [
       "ProductID\n",
       "B0036BEXK8    5.0\n",
       "B00480Y3ZQ    5.0\n",
       "B006CMV9UA    5.0\n",
       "B002P3C8QY    5.0\n",
       "B006RA0ODK    5.0\n",
       "B006RA0A4S    5.0\n",
       "B005PWJTOQ    5.0\n",
       "B005UP9L6Y    5.0\n",
       "B005WE5752    5.0\n",
       "B006NG6DEM    5.0\n",
       "B00591714I    5.0\n",
       "B005Z5WDKK    5.0\n",
       "B005ZUIJ0S    5.0\n",
       "B00632N8FI    5.0\n",
       "B00487X27O    5.0\n",
       "B00666TA0S    5.0\n",
       "B006H4U9CM    5.0\n",
       "B002SG7LWO    5.0\n",
       "B00713KFSQ    5.0\n",
       "B0066TA50O    5.0\n",
       "B002N80O3A    5.0\n",
       "B0051OLWHU    5.0\n",
       "B004TD0SS8    5.0\n",
       "B0034SIU8O    5.0\n",
       "B004WAAJ7I    5.0\n",
       "B004YXGFDU    5.0\n",
       "B003SDWQEY    5.0\n",
       "B003V8SE4W    5.0\n",
       "B004O6FGYG    5.0\n",
       "B002FM7F9U    5.0\n",
       "B004IBR0CI    5.0\n",
       "B004HYHVPC    5.0\n",
       "B0056MYT04    5.0\n",
       "B002KSRZYY    5.0\n",
       "Name: Overall, dtype: float64"
      ]
     },
     "execution_count": 175,
     "metadata": {},
     "output_type": "execute_result"
    }
   ],
   "source": [
    "grp_data[grp_data == 5]"
   ]
  },
  {
   "cell_type": "code",
   "execution_count": 176,
   "id": "1a64755f-6b1f-4ebd-9065-6c770b6bbdbe",
   "metadata": {},
   "outputs": [
    {
     "data": {
      "text/html": [
       "<div>\n",
       "<style scoped>\n",
       "    .dataframe tbody tr th:only-of-type {\n",
       "        vertical-align: middle;\n",
       "    }\n",
       "\n",
       "    .dataframe tbody tr th {\n",
       "        vertical-align: top;\n",
       "    }\n",
       "\n",
       "    .dataframe thead th {\n",
       "        text-align: right;\n",
       "    }\n",
       "</style>\n",
       "<table border=\"1\" class=\"dataframe\">\n",
       "  <thead>\n",
       "    <tr style=\"text-align: right;\">\n",
       "      <th></th>\n",
       "      <th>Price</th>\n",
       "      <th>Features</th>\n",
       "      <th>Name</th>\n",
       "      <th>ImgURL</th>\n",
       "      <th>ProductID</th>\n",
       "      <th>Title</th>\n",
       "      <th>Author</th>\n",
       "      <th>ReviewID</th>\n",
       "      <th>Overall</th>\n",
       "      <th>Content</th>\n",
       "      <th>Date</th>\n",
       "    </tr>\n",
       "  </thead>\n",
       "  <tbody>\n",
       "    <tr>\n",
       "      <th>0</th>\n",
       "      <td>NaN</td>\n",
       "      <td>Intel Core 2 Duo Processor 2.53GHz\\n4GB DDR3 R...</td>\n",
       "      <td>Apple MacBook ProMB991LL/A 13.3 Inch Laptop</td>\n",
       "      <td>\\ndata:image/jpeg;base64,/9j/4AAQSkZJRgABAQAAA...</td>\n",
       "      <td>B002C7446A</td>\n",
       "      <td>Switched from Windows: More good than bad.  Gr...</td>\n",
       "      <td>Jeffrey Stanley</td>\n",
       "      <td>R1DA3BK8I1XXDW</td>\n",
       "      <td>4</td>\n",
       "      <td>This is my first Mac computer.  My first four ...</td>\n",
       "      <td>2009-07-06</td>\n",
       "    </tr>\n",
       "    <tr>\n",
       "      <th>1</th>\n",
       "      <td>NaN</td>\n",
       "      <td>Intel Core 2 Duo Processor 2.53GHz\\n4GB DDR3 R...</td>\n",
       "      <td>Apple MacBook ProMB991LL/A 13.3 Inch Laptop</td>\n",
       "      <td>\\ndata:image/jpeg;base64,/9j/4AAQSkZJRgABAQAAA...</td>\n",
       "      <td>B002C7446A</td>\n",
       "      <td>Macbook graduates to PRO status!</td>\n",
       "      <td>Nate \"bigetan\"</td>\n",
       "      <td>R3IO3TVYYXPJVE</td>\n",
       "      <td>5</td>\n",
       "      <td>Well I must say I am very happy i did not buy ...</td>\n",
       "      <td>2009-06-15</td>\n",
       "    </tr>\n",
       "    <tr>\n",
       "      <th>2</th>\n",
       "      <td>NaN</td>\n",
       "      <td>Intel Core 2 Duo Processor 2.53GHz\\n4GB DDR3 R...</td>\n",
       "      <td>Apple MacBook ProMB991LL/A 13.3 Inch Laptop</td>\n",
       "      <td>\\ndata:image/jpeg;base64,/9j/4AAQSkZJRgABAQAAA...</td>\n",
       "      <td>B002C7446A</td>\n",
       "      <td>Not sure why all of the haters keep griping ab...</td>\n",
       "      <td>DR</td>\n",
       "      <td>R29AN2GC4M6VZO</td>\n",
       "      <td>5</td>\n",
       "      <td>I just got my brand new 13.3\" Macbook Pro in t...</td>\n",
       "      <td>2009-06-30</td>\n",
       "    </tr>\n",
       "    <tr>\n",
       "      <th>3</th>\n",
       "      <td>NaN</td>\n",
       "      <td>Intel Core 2 Duo Processor 2.53GHz\\n4GB DDR3 R...</td>\n",
       "      <td>Apple MacBook ProMB991LL/A 13.3 Inch Laptop</td>\n",
       "      <td>\\ndata:image/jpeg;base64,/9j/4AAQSkZJRgABAQAAA...</td>\n",
       "      <td>B002C7446A</td>\n",
       "      <td>Apple's lightest full-featured notebook</td>\n",
       "      <td>Cuyler</td>\n",
       "      <td>R3NW0EN92LKU0J</td>\n",
       "      <td>4</td>\n",
       "      <td>There are lots of positives.  First, the alumi...</td>\n",
       "      <td>2009-06-23</td>\n",
       "    </tr>\n",
       "    <tr>\n",
       "      <th>4</th>\n",
       "      <td>NaN</td>\n",
       "      <td>Intel Core 2 Duo Processor 2.53GHz\\n4GB DDR3 R...</td>\n",
       "      <td>Apple MacBook ProMB991LL/A 13.3 Inch Laptop</td>\n",
       "      <td>\\ndata:image/jpeg;base64,/9j/4AAQSkZJRgABAQAAA...</td>\n",
       "      <td>B002C7446A</td>\n",
       "      <td>A True Pro Laptop</td>\n",
       "      <td>A. Chan</td>\n",
       "      <td>R16ZRDX88506KF</td>\n",
       "      <td>5</td>\n",
       "      <td>I purchased the Unibody MacBook in October, an...</td>\n",
       "      <td>2009-06-16</td>\n",
       "    </tr>\n",
       "  </tbody>\n",
       "</table>\n",
       "</div>"
      ],
      "text/plain": [
       "  Price                                           Features  \\\n",
       "0   NaN  Intel Core 2 Duo Processor 2.53GHz\\n4GB DDR3 R...   \n",
       "1   NaN  Intel Core 2 Duo Processor 2.53GHz\\n4GB DDR3 R...   \n",
       "2   NaN  Intel Core 2 Duo Processor 2.53GHz\\n4GB DDR3 R...   \n",
       "3   NaN  Intel Core 2 Duo Processor 2.53GHz\\n4GB DDR3 R...   \n",
       "4   NaN  Intel Core 2 Duo Processor 2.53GHz\\n4GB DDR3 R...   \n",
       "\n",
       "                                          Name  \\\n",
       "0  Apple MacBook ProMB991LL/A 13.3 Inch Laptop   \n",
       "1  Apple MacBook ProMB991LL/A 13.3 Inch Laptop   \n",
       "2  Apple MacBook ProMB991LL/A 13.3 Inch Laptop   \n",
       "3  Apple MacBook ProMB991LL/A 13.3 Inch Laptop   \n",
       "4  Apple MacBook ProMB991LL/A 13.3 Inch Laptop   \n",
       "\n",
       "                                              ImgURL   ProductID  \\\n",
       "0  \\ndata:image/jpeg;base64,/9j/4AAQSkZJRgABAQAAA...  B002C7446A   \n",
       "1  \\ndata:image/jpeg;base64,/9j/4AAQSkZJRgABAQAAA...  B002C7446A   \n",
       "2  \\ndata:image/jpeg;base64,/9j/4AAQSkZJRgABAQAAA...  B002C7446A   \n",
       "3  \\ndata:image/jpeg;base64,/9j/4AAQSkZJRgABAQAAA...  B002C7446A   \n",
       "4  \\ndata:image/jpeg;base64,/9j/4AAQSkZJRgABAQAAA...  B002C7446A   \n",
       "\n",
       "                                               Title           Author  \\\n",
       "0  Switched from Windows: More good than bad.  Gr...  Jeffrey Stanley   \n",
       "1                   Macbook graduates to PRO status!   Nate \"bigetan\"   \n",
       "2  Not sure why all of the haters keep griping ab...               DR   \n",
       "3            Apple's lightest full-featured notebook           Cuyler   \n",
       "4                                  A True Pro Laptop          A. Chan   \n",
       "\n",
       "         ReviewID  Overall                                            Content  \\\n",
       "0  R1DA3BK8I1XXDW        4  This is my first Mac computer.  My first four ...   \n",
       "1  R3IO3TVYYXPJVE        5  Well I must say I am very happy i did not buy ...   \n",
       "2  R29AN2GC4M6VZO        5  I just got my brand new 13.3\" Macbook Pro in t...   \n",
       "3  R3NW0EN92LKU0J        4  There are lots of positives.  First, the alumi...   \n",
       "4  R16ZRDX88506KF        5  I purchased the Unibody MacBook in October, an...   \n",
       "\n",
       "        Date  \n",
       "0 2009-07-06  \n",
       "1 2009-06-15  \n",
       "2 2009-06-30  \n",
       "3 2009-06-23  \n",
       "4 2009-06-16  "
      ]
     },
     "execution_count": 176,
     "metadata": {},
     "output_type": "execute_result"
    }
   ],
   "source": [
    "merged_data = products.merge(reviews, how = 'inner', left_on = 'ProductID', right_on = 'ProductID')\n",
    "merged_data.head()"
   ]
  },
  {
   "cell_type": "code",
   "execution_count": 177,
   "id": "d9d7e70a-3e67-43d6-9398-a626952b2764",
   "metadata": {},
   "outputs": [
    {
     "data": {
      "text/plain": [
       "['B00487X27O', 'B005PWJTOQ', 'B002KSRZYY', 'B0066TA50O', 'B006H4U9CM']"
      ]
     },
     "execution_count": 177,
     "metadata": {},
     "output_type": "execute_result"
    }
   ],
   "source": [
    "pdata = merged_data.groupby('ProductID')[['Overall', 'ReviewID']].aggregate({'Overall':'mean', 'ReviewID':'nunique'}).sort_values(by = 'Overall', ascending = False)\n",
    "top5_product = pdata[pdata['Overall'] == 5].sort_values(by = 'ReviewID', ascending = False).head(5).index.to_list()\n",
    "top5_product"
   ]
  },
  {
   "cell_type": "code",
   "execution_count": 178,
   "id": "9ca2cd0d-fb49-43de-bbd4-686bca2ab9b0",
   "metadata": {},
   "outputs": [
    {
     "data": {
      "text/html": [
       "<div>\n",
       "<style scoped>\n",
       "    .dataframe tbody tr th:only-of-type {\n",
       "        vertical-align: middle;\n",
       "    }\n",
       "\n",
       "    .dataframe tbody tr th {\n",
       "        vertical-align: top;\n",
       "    }\n",
       "\n",
       "    .dataframe thead th {\n",
       "        text-align: right;\n",
       "    }\n",
       "</style>\n",
       "<table border=\"1\" class=\"dataframe\">\n",
       "  <thead>\n",
       "    <tr style=\"text-align: right;\">\n",
       "      <th></th>\n",
       "      <th>Price</th>\n",
       "      <th>Features</th>\n",
       "      <th>Name</th>\n",
       "      <th>ImgURL</th>\n",
       "      <th>ProductID</th>\n",
       "    </tr>\n",
       "  </thead>\n",
       "  <tbody>\n",
       "    <tr>\n",
       "      <th>252</th>\n",
       "      <td>NaN</td>\n",
       "      <td>NaN</td>\n",
       "      <td>NaN</td>\n",
       "      <td>NaN</td>\n",
       "      <td>B00487X27O</td>\n",
       "    </tr>\n",
       "  </tbody>\n",
       "</table>\n",
       "</div>"
      ],
      "text/plain": [
       "    Price Features Name ImgURL   ProductID\n",
       "252   NaN      NaN  NaN    NaN  B00487X27O"
      ]
     },
     "execution_count": 178,
     "metadata": {},
     "output_type": "execute_result"
    }
   ],
   "source": [
    "products[products['ProductID'] == top5_product[0]]"
   ]
  },
  {
   "cell_type": "code",
   "execution_count": 179,
   "id": "a58c9901-1318-4ff9-9322-23f739604932",
   "metadata": {},
   "outputs": [
    {
     "data": {
      "text/html": [
       "<div>\n",
       "<style scoped>\n",
       "    .dataframe tbody tr th:only-of-type {\n",
       "        vertical-align: middle;\n",
       "    }\n",
       "\n",
       "    .dataframe tbody tr th {\n",
       "        vertical-align: top;\n",
       "    }\n",
       "\n",
       "    .dataframe thead th {\n",
       "        text-align: right;\n",
       "    }\n",
       "</style>\n",
       "<table border=\"1\" class=\"dataframe\">\n",
       "  <thead>\n",
       "    <tr style=\"text-align: right;\">\n",
       "      <th></th>\n",
       "      <th>Price</th>\n",
       "      <th>Features</th>\n",
       "      <th>Name</th>\n",
       "      <th>ImgURL</th>\n",
       "      <th>ProductID</th>\n",
       "    </tr>\n",
       "  </thead>\n",
       "  <tbody>\n",
       "    <tr>\n",
       "      <th>16</th>\n",
       "      <td>NaN</td>\n",
       "      <td>NaN</td>\n",
       "      <td>NaN</td>\n",
       "      <td>NaN</td>\n",
       "      <td>B002KSRZYY</td>\n",
       "    </tr>\n",
       "    <tr>\n",
       "      <th>252</th>\n",
       "      <td>NaN</td>\n",
       "      <td>NaN</td>\n",
       "      <td>NaN</td>\n",
       "      <td>NaN</td>\n",
       "      <td>B00487X27O</td>\n",
       "    </tr>\n",
       "    <tr>\n",
       "      <th>469</th>\n",
       "      <td>NaN</td>\n",
       "      <td>NaN</td>\n",
       "      <td>NaN</td>\n",
       "      <td>NaN</td>\n",
       "      <td>B005PWJTOQ</td>\n",
       "    </tr>\n",
       "    <tr>\n",
       "      <th>516</th>\n",
       "      <td>NaN</td>\n",
       "      <td>NaN</td>\n",
       "      <td>NaN</td>\n",
       "      <td>NaN</td>\n",
       "      <td>B0066TA50O</td>\n",
       "    </tr>\n",
       "    <tr>\n",
       "      <th>529</th>\n",
       "      <td>NaN</td>\n",
       "      <td>NaN</td>\n",
       "      <td>NaN</td>\n",
       "      <td>NaN</td>\n",
       "      <td>B006H4U9CM</td>\n",
       "    </tr>\n",
       "  </tbody>\n",
       "</table>\n",
       "</div>"
      ],
      "text/plain": [
       "    Price Features Name ImgURL   ProductID\n",
       "16    NaN      NaN  NaN    NaN  B002KSRZYY\n",
       "252   NaN      NaN  NaN    NaN  B00487X27O\n",
       "469   NaN      NaN  NaN    NaN  B005PWJTOQ\n",
       "516   NaN      NaN  NaN    NaN  B0066TA50O\n",
       "529   NaN      NaN  NaN    NaN  B006H4U9CM"
      ]
     },
     "execution_count": 179,
     "metadata": {},
     "output_type": "execute_result"
    }
   ],
   "source": [
    "products[products['ProductID'].isin(top5_product)]"
   ]
  },
  {
   "cell_type": "code",
   "execution_count": 180,
   "id": "8d6392f2-21bb-4410-aa3e-7c865ae48c7c",
   "metadata": {},
   "outputs": [
    {
     "data": {
      "text/plain": [
       "0    B00487X27O\n",
       "Name: ProductID, dtype: object"
      ]
     },
     "execution_count": 180,
     "metadata": {},
     "output_type": "execute_result"
    }
   ],
   "source": [
    "grpData = merged_data.groupby('ProductID')[['Overall','ReviewID']].aggregate({'Overall':'mean', 'ReviewID':'nunique'}).sort_values(by = 'Overall', ascending = False)\n",
    "grpData[grpData['Overall'] == 5].sort_values(by='ReviewID', ascending= False).reset_index().head(1)['ProductID']"
   ]
  },
  {
   "cell_type": "markdown",
   "id": "67fdf789-79a2-44c9-8054-e176aff232fa",
   "metadata": {},
   "source": [
    "<BR/>\n",
    "<BR/>\n",
    "<HR/>"
   ]
  },
  {
   "cell_type": "markdown",
   "id": "3d822a23-b1c7-4b6d-80e7-45ac07d5423a",
   "metadata": {},
   "source": [
    "### Which product would you buy / recommend?"
   ]
  },
  {
   "cell_type": "markdown",
   "id": "3787e2bf-60ce-483e-acaf-086ac81307f8",
   "metadata": {},
   "source": [
    "<BR/>\n",
    "<BR/>\n",
    "<HR/>"
   ]
  },
  {
   "cell_type": "markdown",
   "id": "db2ea922-6b7e-4530-b076-093d38e71350",
   "metadata": {},
   "source": [
    "### What is the overall shape of the distribution of reviews?"
   ]
  },
  {
   "cell_type": "code",
   "execution_count": 181,
   "id": "b15e9ad8-53f3-461f-a0cc-1f3a7c6072f3",
   "metadata": {},
   "outputs": [
    {
     "data": {
      "image/png": "[encoded data removed]",
      "text/plain": [
       "<Figure size 432x288 with 1 Axes>"
      ]
     },
     "metadata": {
      "needs_background": "light"
     },
     "output_type": "display_data"
    }
   ],
   "source": [
    "reviews['Overall'].plot(kind = 'hist');"
   ]
  },
  {
   "cell_type": "markdown",
   "id": "6c9a61f1-b603-4603-9921-4a5c6edda851",
   "metadata": {},
   "source": [
    "<BR/>\n",
    "<BR/>\n",
    "<HR/>"
   ]
  },
  {
   "cell_type": "markdown",
   "id": "f9cecbba-4fc3-468d-8965-bb161369e590",
   "metadata": {},
   "source": [
    "### Is the length of the review related to the rating?"
   ]
  },
  {
   "cell_type": "code",
   "execution_count": 182,
   "id": "5003ab12-1d52-4f93-a1e9-3e169729ed6f",
   "metadata": {},
   "outputs": [
    {
     "data": {
      "text/html": [
       "<div>\n",
       "<style scoped>\n",
       "    .dataframe tbody tr th:only-of-type {\n",
       "        vertical-align: middle;\n",
       "    }\n",
       "\n",
       "    .dataframe tbody tr th {\n",
       "        vertical-align: top;\n",
       "    }\n",
       "\n",
       "    .dataframe thead th {\n",
       "        text-align: right;\n",
       "    }\n",
       "</style>\n",
       "<table border=\"1\" class=\"dataframe\">\n",
       "  <thead>\n",
       "    <tr style=\"text-align: right;\">\n",
       "      <th></th>\n",
       "      <th>Title</th>\n",
       "      <th>Author</th>\n",
       "      <th>ReviewID</th>\n",
       "      <th>Overall</th>\n",
       "      <th>Content</th>\n",
       "      <th>Date</th>\n",
       "      <th>ProductID</th>\n",
       "    </tr>\n",
       "  </thead>\n",
       "  <tbody>\n",
       "    <tr>\n",
       "      <th>0</th>\n",
       "      <td>Switched from Windows: More good than bad.  Gr...</td>\n",
       "      <td>Jeffrey Stanley</td>\n",
       "      <td>R1DA3BK8I1XXDW</td>\n",
       "      <td>4</td>\n",
       "      <td>This is my first Mac computer.  My first four ...</td>\n",
       "      <td>2009-07-06</td>\n",
       "      <td>B002C7446A</td>\n",
       "    </tr>\n",
       "    <tr>\n",
       "      <th>1</th>\n",
       "      <td>Macbook graduates to PRO status!</td>\n",
       "      <td>Nate \"bigetan\"</td>\n",
       "      <td>R3IO3TVYYXPJVE</td>\n",
       "      <td>5</td>\n",
       "      <td>Well I must say I am very happy i did not buy ...</td>\n",
       "      <td>2009-06-15</td>\n",
       "      <td>B002C7446A</td>\n",
       "    </tr>\n",
       "    <tr>\n",
       "      <th>2</th>\n",
       "      <td>Not sure why all of the haters keep griping ab...</td>\n",
       "      <td>DR</td>\n",
       "      <td>R29AN2GC4M6VZO</td>\n",
       "      <td>5</td>\n",
       "      <td>I just got my brand new 13.3\" Macbook Pro in t...</td>\n",
       "      <td>2009-06-30</td>\n",
       "      <td>B002C7446A</td>\n",
       "    </tr>\n",
       "    <tr>\n",
       "      <th>3</th>\n",
       "      <td>Apple's lightest full-featured notebook</td>\n",
       "      <td>Cuyler</td>\n",
       "      <td>R3NW0EN92LKU0J</td>\n",
       "      <td>4</td>\n",
       "      <td>There are lots of positives.  First, the alumi...</td>\n",
       "      <td>2009-06-23</td>\n",
       "      <td>B002C7446A</td>\n",
       "    </tr>\n",
       "    <tr>\n",
       "      <th>4</th>\n",
       "      <td>A True Pro Laptop</td>\n",
       "      <td>A. Chan</td>\n",
       "      <td>R16ZRDX88506KF</td>\n",
       "      <td>5</td>\n",
       "      <td>I purchased the Unibody MacBook in October, an...</td>\n",
       "      <td>2009-06-16</td>\n",
       "      <td>B002C7446A</td>\n",
       "    </tr>\n",
       "  </tbody>\n",
       "</table>\n",
       "</div>"
      ],
      "text/plain": [
       "                                               Title           Author  \\\n",
       "0  Switched from Windows: More good than bad.  Gr...  Jeffrey Stanley   \n",
       "1                   Macbook graduates to PRO status!   Nate \"bigetan\"   \n",
       "2  Not sure why all of the haters keep griping ab...               DR   \n",
       "3            Apple's lightest full-featured notebook           Cuyler   \n",
       "4                                  A True Pro Laptop          A. Chan   \n",
       "\n",
       "         ReviewID  Overall                                            Content  \\\n",
       "0  R1DA3BK8I1XXDW        4  This is my first Mac computer.  My first four ...   \n",
       "1  R3IO3TVYYXPJVE        5  Well I must say I am very happy i did not buy ...   \n",
       "2  R29AN2GC4M6VZO        5  I just got my brand new 13.3\" Macbook Pro in t...   \n",
       "3  R3NW0EN92LKU0J        4  There are lots of positives.  First, the alumi...   \n",
       "4  R16ZRDX88506KF        5  I purchased the Unibody MacBook in October, an...   \n",
       "\n",
       "        Date   ProductID  \n",
       "0 2009-07-06  B002C7446A  \n",
       "1 2009-06-15  B002C7446A  \n",
       "2 2009-06-30  B002C7446A  \n",
       "3 2009-06-23  B002C7446A  \n",
       "4 2009-06-16  B002C7446A  "
      ]
     },
     "execution_count": 182,
     "metadata": {},
     "output_type": "execute_result"
    }
   ],
   "source": [
    "reviews.head()"
   ]
  },
  {
   "cell_type": "code",
   "execution_count": 183,
   "id": "db483a9a-e0d1-4782-9805-e12b2a0beff9",
   "metadata": {},
   "outputs": [],
   "source": [
    "import numpy as np\n",
    "\n",
    "#length of each row of dataframe\n",
    "\n",
    "reviews['Char Count'] = reviews['Content'].str.len()"
   ]
  },
  {
   "cell_type": "code",
   "execution_count": 184,
   "id": "269c8e9e-7b53-47f8-959a-feb7ef266263",
   "metadata": {},
   "outputs": [],
   "source": [
    "#word count for\n",
    "reviews['Word Count'] = reviews['Content'].str.split(' ').str.len()"
   ]
  },
  {
   "cell_type": "code",
   "execution_count": 185,
   "id": "b693399a-00d9-4c34-a6f4-48a08b8a8149",
   "metadata": {},
   "outputs": [
    {
     "data": {
      "text/html": [
       "<div>\n",
       "<style scoped>\n",
       "    .dataframe tbody tr th:only-of-type {\n",
       "        vertical-align: middle;\n",
       "    }\n",
       "\n",
       "    .dataframe tbody tr th {\n",
       "        vertical-align: top;\n",
       "    }\n",
       "\n",
       "    .dataframe thead th {\n",
       "        text-align: right;\n",
       "    }\n",
       "</style>\n",
       "<table border=\"1\" class=\"dataframe\">\n",
       "  <thead>\n",
       "    <tr style=\"text-align: right;\">\n",
       "      <th></th>\n",
       "      <th>Title</th>\n",
       "      <th>Author</th>\n",
       "      <th>ReviewID</th>\n",
       "      <th>Overall</th>\n",
       "      <th>Content</th>\n",
       "      <th>Date</th>\n",
       "      <th>ProductID</th>\n",
       "      <th>Char Count</th>\n",
       "      <th>Word Count</th>\n",
       "    </tr>\n",
       "  </thead>\n",
       "  <tbody>\n",
       "    <tr>\n",
       "      <th>0</th>\n",
       "      <td>Switched from Windows: More good than bad.  Gr...</td>\n",
       "      <td>Jeffrey Stanley</td>\n",
       "      <td>R1DA3BK8I1XXDW</td>\n",
       "      <td>4</td>\n",
       "      <td>This is my first Mac computer.  My first four ...</td>\n",
       "      <td>2009-07-06</td>\n",
       "      <td>B002C7446A</td>\n",
       "      <td>14980.0</td>\n",
       "      <td>2818.0</td>\n",
       "    </tr>\n",
       "    <tr>\n",
       "      <th>1</th>\n",
       "      <td>Macbook graduates to PRO status!</td>\n",
       "      <td>Nate \"bigetan\"</td>\n",
       "      <td>R3IO3TVYYXPJVE</td>\n",
       "      <td>5</td>\n",
       "      <td>Well I must say I am very happy i did not buy ...</td>\n",
       "      <td>2009-06-15</td>\n",
       "      <td>B002C7446A</td>\n",
       "      <td>2297.0</td>\n",
       "      <td>415.0</td>\n",
       "    </tr>\n",
       "    <tr>\n",
       "      <th>2</th>\n",
       "      <td>Not sure why all of the haters keep griping ab...</td>\n",
       "      <td>DR</td>\n",
       "      <td>R29AN2GC4M6VZO</td>\n",
       "      <td>5</td>\n",
       "      <td>I just got my brand new 13.3\" Macbook Pro in t...</td>\n",
       "      <td>2009-06-30</td>\n",
       "      <td>B002C7446A</td>\n",
       "      <td>3394.0</td>\n",
       "      <td>638.0</td>\n",
       "    </tr>\n",
       "    <tr>\n",
       "      <th>3</th>\n",
       "      <td>Apple's lightest full-featured notebook</td>\n",
       "      <td>Cuyler</td>\n",
       "      <td>R3NW0EN92LKU0J</td>\n",
       "      <td>4</td>\n",
       "      <td>There are lots of positives.  First, the alumi...</td>\n",
       "      <td>2009-06-23</td>\n",
       "      <td>B002C7446A</td>\n",
       "      <td>6066.0</td>\n",
       "      <td>1074.0</td>\n",
       "    </tr>\n",
       "    <tr>\n",
       "      <th>4</th>\n",
       "      <td>A True Pro Laptop</td>\n",
       "      <td>A. Chan</td>\n",
       "      <td>R16ZRDX88506KF</td>\n",
       "      <td>5</td>\n",
       "      <td>I purchased the Unibody MacBook in October, an...</td>\n",
       "      <td>2009-06-16</td>\n",
       "      <td>B002C7446A</td>\n",
       "      <td>2268.0</td>\n",
       "      <td>400.0</td>\n",
       "    </tr>\n",
       "  </tbody>\n",
       "</table>\n",
       "</div>"
      ],
      "text/plain": [
       "                                               Title           Author  \\\n",
       "0  Switched from Windows: More good than bad.  Gr...  Jeffrey Stanley   \n",
       "1                   Macbook graduates to PRO status!   Nate \"bigetan\"   \n",
       "2  Not sure why all of the haters keep griping ab...               DR   \n",
       "3            Apple's lightest full-featured notebook           Cuyler   \n",
       "4                                  A True Pro Laptop          A. Chan   \n",
       "\n",
       "         ReviewID  Overall                                            Content  \\\n",
       "0  R1DA3BK8I1XXDW        4  This is my first Mac computer.  My first four ...   \n",
       "1  R3IO3TVYYXPJVE        5  Well I must say I am very happy i did not buy ...   \n",
       "2  R29AN2GC4M6VZO        5  I just got my brand new 13.3\" Macbook Pro in t...   \n",
       "3  R3NW0EN92LKU0J        4  There are lots of positives.  First, the alumi...   \n",
       "4  R16ZRDX88506KF        5  I purchased the Unibody MacBook in October, an...   \n",
       "\n",
       "        Date   ProductID  Char Count  Word Count  \n",
       "0 2009-07-06  B002C7446A     14980.0      2818.0  \n",
       "1 2009-06-15  B002C7446A      2297.0       415.0  \n",
       "2 2009-06-30  B002C7446A      3394.0       638.0  \n",
       "3 2009-06-23  B002C7446A      6066.0      1074.0  \n",
       "4 2009-06-16  B002C7446A      2268.0       400.0  "
      ]
     },
     "execution_count": 185,
     "metadata": {},
     "output_type": "execute_result"
    }
   ],
   "source": [
    "reviews.head()"
   ]
  },
  {
   "cell_type": "code",
   "execution_count": 186,
   "id": "8beae817-3d58-413b-9e54-26b91bccbe66",
   "metadata": {},
   "outputs": [
    {
     "data": {
      "image/png": "[encoded data removed]",
      "text/plain": [
       "<Figure size 432x288 with 1 Axes>"
      ]
     },
     "metadata": {
      "needs_background": "light"
     },
     "output_type": "display_data"
    }
   ],
   "source": [
    "import seaborn as sns\n",
    "\n",
    "sns.scatterplot(data = reviews, x = 'Overall',y = 'Char Count');"
   ]
  },
  {
   "cell_type": "code",
   "execution_count": 187,
   "id": "15337b05-f4c4-4b4a-add5-1a2708eb5cb2",
   "metadata": {},
   "outputs": [
    {
     "data": {
      "image/png": "[encoded data removed]",
      "text/plain": [
       "<Figure size 432x288 with 1 Axes>"
      ]
     },
     "metadata": {
      "needs_background": "light"
     },
     "output_type": "display_data"
    }
   ],
   "source": [
    "sns.regplot(data = reviews, x = 'Overall', y= 'Char Count');"
   ]
  },
  {
   "cell_type": "code",
   "execution_count": 188,
   "id": "9de2da20-2b9b-4c06-b9af-633ea2673d79",
   "metadata": {},
   "outputs": [
    {
     "data": {
      "image/png": "[encoded data removed]",
      "text/plain": [
       "<Figure size 432x288 with 1 Axes>"
      ]
     },
     "metadata": {
      "needs_background": "light"
     },
     "output_type": "display_data"
    }
   ],
   "source": [
    "sns.scatterplot(data = reviews, x = 'Overall',y = 'Word Count');"
   ]
  },
  {
   "cell_type": "code",
   "execution_count": 189,
   "id": "d3bc7230-0c45-4a52-9ae1-d4d7a48296c7",
   "metadata": {},
   "outputs": [
    {
     "data": {
      "image/png": "[encoded data removed]",
      "text/plain": [
       "<Figure size 432x288 with 1 Axes>"
      ]
     },
     "metadata": {
      "needs_background": "light"
     },
     "output_type": "display_data"
    }
   ],
   "source": [
    "sns.regplot(data = reviews, x = 'Overall',y = 'Word Count');"
   ]
  },
  {
   "cell_type": "code",
   "execution_count": 190,
   "id": "51029115-bf13-40d0-aaf2-762e0d735956",
   "metadata": {},
   "outputs": [
    {
     "data": {
      "image/png": "[encoded data removed]",
      "text/plain": [
       "<Figure size 432x288 with 1 Axes>"
      ]
     },
     "metadata": {
      "needs_background": "light"
     },
     "output_type": "display_data"
    }
   ],
   "source": [
    "sns.boxplot(data = reviews, x = 'Overall',y = 'Word Count');"
   ]
  },
  {
   "cell_type": "code",
   "execution_count": 191,
   "id": "519df007-236e-4292-8b4e-743353fff616",
   "metadata": {},
   "outputs": [
    {
     "data": {
      "image/png": "[encoded data removed]",
      "text/plain": [
       "<Figure size 432x288 with 1 Axes>"
      ]
     },
     "metadata": {
      "needs_background": "light"
     },
     "output_type": "display_data"
    }
   ],
   "source": [
    "sns.barplot(data = reviews, x = 'Overall',y = 'Word Count');"
   ]
  },
  {
   "cell_type": "code",
   "execution_count": 192,
   "id": "4bac0664-bd77-4bdb-b851-5c1cf7bf71af",
   "metadata": {},
   "outputs": [
    {
     "data": {
      "image/png": "[encoded data removed]",
      "text/plain": [
       "<Figure size 432x288 with 1 Axes>"
      ]
     },
     "metadata": {
      "needs_background": "light"
     },
     "output_type": "display_data"
    }
   ],
   "source": [
    "sns.regplot(data = reviews[(reviews['Word Count'] > 250) & (reviews['Word Count'] < 2000)], x = 'Overall',y = 'Word Count' );"
   ]
  },
  {
   "cell_type": "code",
   "execution_count": 198,
   "id": "946186fd-d4cb-44b6-bcb1-a544ad4948f5",
   "metadata": {},
   "outputs": [
    {
     "data": {
      "image/png": "[encoded data removed]",
      "text/plain": [
       "<Figure size 432x288 with 1 Axes>"
      ]
     },
     "metadata": {
      "needs_background": "light"
     },
     "output_type": "display_data"
    }
   ],
   "source": [
    "sns.histplot(data = reviews[(reviews['Word Count'] > 50) & (reviews['Word Count'] < 2000)], x = 'Word Count', hue =  'Overall', element = 'poly');"
   ]
  },
  {
   "cell_type": "code",
   "execution_count": null,
   "id": "7e18d5ce-9b6a-4d3e-9df8-e49964e79371",
   "metadata": {},
   "outputs": [],
   "source": []
  }
 ],
 "metadata": {
  "kernelspec": {
   "display_name": "Python 3 (ipykernel)",
   "language": "python",
   "name": "python3"
  },
  "language_info": {
   "codemirror_mode": {
    "name": "ipython",
    "version": 3
   },
   "file_extension": ".py",
   "mimetype": "text/x-python",
   "name": "python",
   "nbconvert_exporter": "python",
   "pygments_lexer": "ipython3",
   "version": "3.7.10"
  }
 },
 "nbformat": 4,
 "nbformat_minor": 5
}
